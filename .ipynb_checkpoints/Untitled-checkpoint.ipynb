{
 "cells": [
  {
   "cell_type": "code",
   "execution_count": 9,
   "metadata": {},
   "outputs": [],
   "source": [
    "import os\n",
    "os.environ['DJANGO_SETTINGS_MODULE'] = 'practice.settings'\n",
    "os.environ[\"DJANGO_ALLOW_ASYNC_UNSAFE\"] = \"true\"\n",
    "\n",
    "import django\n",
    "django.setup()\n"
   ]
  },
  {
   "cell_type": "code",
   "execution_count": 10,
   "metadata": {},
   "outputs": [],
   "source": [
    "from instagram.models import Post"
   ]
  },
  {
   "cell_type": "code",
   "execution_count": 12,
   "metadata": {},
   "outputs": [
    {
     "name": "stdout",
     "output_type": "stream",
     "text": [
      "<class 'django.db.models.query.QuerySet'>\n",
      "SELECT \"instagram_post\".\"id\", \"instagram_post\".\"message\", \"instagram_post\".\"photo\", \"instagram_post\".\"is_public\", \"instagram_post\".\"created_at\", \"instagram_post\".\"updated_at\" FROM \"instagram_post\"\n"
     ]
    },
    {
     "data": {
      "text/plain": [
       "<QuerySet [<Post: 첫번째 메세지>, <Post: 두번째 메세지>, <Post: 세번째 메세지>, <Post: 네 번째 포스팅>]>"
      ]
     },
     "execution_count": 12,
     "metadata": {},
     "output_type": "execute_result"
    }
   ],
   "source": [
    "qs = Post.objects.all()\n",
    "print(type(qs))\n",
    "print(qs.query)\n",
    "qs"
   ]
  },
  {
   "cell_type": "code",
   "execution_count": 14,
   "metadata": {},
   "outputs": [
    {
     "name": "stdout",
     "output_type": "stream",
     "text": [
      "SELECT \"instagram_post\".\"id\", \"instagram_post\".\"message\", \"instagram_post\".\"photo\", \"instagram_post\".\"is_public\", \"instagram_post\".\"created_at\", \"instagram_post\".\"updated_at\" FROM \"instagram_post\" ORDER BY \"instagram_post\".\"id\" DESC\n"
     ]
    },
    {
     "data": {
      "text/plain": [
       "<QuerySet [<Post: 네 번째 포스팅>, <Post: 세번째 메세지>, <Post: 두번째 메세지>, <Post: 첫번째 메세지>]>"
      ]
     },
     "execution_count": 14,
     "metadata": {},
     "output_type": "execute_result"
    }
   ],
   "source": [
    "qs = Post.objects.all().order_by('-id')\n",
    "print(qs.query)\n",
    "qs"
   ]
  },
  {
   "cell_type": "code",
   "execution_count": 15,
   "metadata": {},
   "outputs": [
    {
     "name": "stdout",
     "output_type": "stream",
     "text": [
      "SELECT \"instagram_post\".\"id\", \"instagram_post\".\"message\", \"instagram_post\".\"photo\", \"instagram_post\".\"is_public\", \"instagram_post\".\"created_at\", \"instagram_post\".\"updated_at\" FROM \"instagram_post\" ORDER BY \"instagram_post\".\"id\" DESC LIMIT 2\n"
     ]
    },
    {
     "data": {
      "text/plain": [
       "<QuerySet [<Post: 네 번째 포스팅>, <Post: 세번째 메세지>]>"
      ]
     },
     "execution_count": 15,
     "metadata": {},
     "output_type": "execute_result"
    }
   ],
   "source": [
    "qs = Post.objects.all().order_by('-id')[:2]\n",
    "print(qs.query)\n",
    "qs"
   ]
  },
  {
   "cell_type": "code",
   "execution_count": 18,
   "metadata": {},
   "outputs": [
    {
     "name": "stdout",
     "output_type": "stream",
     "text": [
      "id: 4, message: 네 번째 포스팅, 2020-07-18 00:59:00.930026+00:00\n",
      "id: 3, message: 세번째 메세지, 2020-07-17 13:39:51.255607+00:00\n"
     ]
    }
   ],
   "source": [
    "for post in qs:\n",
    "#     print(post.id, post.message, post.created_at)\n",
    "    print(\"id: {id}, message: {message}, {created_at}\".format(**post.__dict__))"
   ]
  },
  {
   "cell_type": "code",
   "execution_count": 19,
   "metadata": {},
   "outputs": [
    {
     "name": "stdout",
     "output_type": "stream",
     "text": [
      "SELECT \"instagram_post\".\"id\", \"instagram_post\".\"message\", \"instagram_post\".\"photo\", \"instagram_post\".\"is_public\", \"instagram_post\".\"created_at\", \"instagram_post\".\"updated_at\" FROM \"instagram_post\" WHERE \"instagram_post\".\"message\" LIKE %메세지% ESCAPE '\\' ORDER BY \"instagram_post\".\"id\" DESC\n"
     ]
    },
    {
     "data": {
      "text/plain": [
       "<QuerySet [<Post: 세번째 메세지>, <Post: 두번째 메세지>, <Post: 첫번째 메세지>]>"
      ]
     },
     "execution_count": 19,
     "metadata": {},
     "output_type": "execute_result"
    }
   ],
   "source": [
    "query = \"메세지\" # 검색어\n",
    "\n",
    "qs = Post.objects.all()\n",
    "qs = qs.filter(message__icontains=query)\n",
    "qs = qs.order_by('-id')\n",
    "print(qs.query)\n",
    "qs"
   ]
  },
  {
   "cell_type": "code",
   "execution_count": null,
   "metadata": {},
   "outputs": [],
   "source": [
    "qs = Post.objects.all()\n",
    "# qs = qs.filter(id__gte=2, message__icontains=query)\n",
    "\n",
    "cond = Q(id__gte=2) | Q(message__icontains=query)\n",
    "# cond &= Q(...)\n",
    "\n",
    "qs = qs.filter(cond)\n",
    "print(qs.query)"
   ]
  },
  {
   "cell_type": "code",
   "execution_count": null,
   "metadata": {},
   "outputs": [],
   "source": []
  },
  {
   "cell_type": "code",
   "execution_count": null,
   "metadata": {},
   "outputs": [],
   "source": []
  }
 ],
 "metadata": {
  "kernelspec": {
   "display_name": "Python 3",
   "language": "python",
   "name": "python3"
  },
  "language_info": {
   "codemirror_mode": {
    "name": "ipython",
    "version": 3
   },
   "file_extension": ".py",
   "mimetype": "text/x-python",
   "name": "python",
   "nbconvert_exporter": "python",
   "pygments_lexer": "ipython3",
   "version": "3.7.7"
  }
 },
 "nbformat": 4,
 "nbformat_minor": 4
}
